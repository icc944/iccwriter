{
 "cells": [
  {
   "cell_type": "code",
   "execution_count": 1,
   "id": "e39819f4",
   "metadata": {},
   "outputs": [],
   "source": [
    "from docx import Document\n",
    "from docx.shared import Pt, Inches\n",
    "from docx.enum.text import WD_ALIGN_PARAGRAPH"
   ]
  },
  {
   "cell_type": "code",
   "execution_count": null,
   "id": "e0675d52",
   "metadata": {},
   "outputs": [],
   "source": [
    "doc = None\n",
    "\n",
    "def add_scene_heading(text):\n",
    "    p = doc.add_paragraph(text.upper())\n",
    "    p.style.font.name = 'Courier New'\n",
    "    p.style.font.size = Pt(12)\n",
    "    p.style.font.bold = True\n",
    "    p.paragraph_format.space_after = Pt(12)\n",
    "    p.alignment = WD_ALIGN_PARAGRAPH.LEFT\n",
    "\n",
    "def add_action(text):\n",
    "    p = doc.add_paragraph(text)\n",
    "    p.style.font.name = 'Courier New'\n",
    "    p.style.font.size = Pt(12)\n",
    "    p.paragraph_format.space_after = Pt(12)\n",
    "    p.alignment = WD_ALIGN_PARAGRAPH.LEFT\n",
    "\n",
    "def add_character(name):\n",
    "    p = doc.add_paragraph(name.upper())\n",
    "    p.style.font.name = 'Courier New'\n",
    "    p.style.font.size = Pt(12)\n",
    "    p.paragraph_format.space_before = Pt(12)\n",
    "    p.paragraph_format.space_after = Pt(0)\n",
    "    p.alignment = WD_ALIGN_PARAGRAPH.CENTER\n",
    "\n",
    "def add_parenthetical(text):\n",
    "    p = doc.add_paragraph(f\"({text})\")\n",
    "    p.style.font.name = 'Courier New'\n",
    "    p.style.font.size = Pt(11)\n",
    "    p.paragraph_format.left_indent = Inches(1.5)\n",
    "    p.paragraph_format.right_indent = Inches(1)\n",
    "    p.alignment = WD_ALIGN_PARAGRAPH.LEFT\n",
    "\n",
    "def add_dialogue(text):\n",
    "    p = doc.add_paragraph(text)\n",
    "    p.style.font.name = 'Courier New'\n",
    "    p.style.font.size = Pt(12)\n",
    "    p.paragraph_format.left_indent = Inches(1.5)\n",
    "    p.paragraph_format.right_indent = Inches(1)\n",
    "    p.alignment = WD_ALIGN_PARAGRAPH.LEFT\n",
    "\n",
    "def add_transition(text):\n",
    "    p = doc.add_paragraph(text.upper())\n",
    "    p.style.font.name = 'Courier New'\n",
    "    p.style.font.size = Pt(12)\n",
    "    p.paragraph_format.space_before = Pt(12)\n",
    "    p.paragraph_format.space_after = Pt(12)\n",
    "    p.alignment = WD_ALIGN_PARAGRAPH.RIGHT\n",
    "\n",
    "def add_shot(text):\n",
    "    p = doc.add_paragraph(text.upper())\n",
    "    p.style.font.name = 'Courier New'\n",
    "    p.style.font.size = Pt(12)\n",
    "    p.paragraph_format.space_after = Pt(6)\n",
    "    p.alignment = WD_ALIGN_PARAGRAPH.LEFT"
   ]
  },
  {
   "cell_type": "code",
   "execution_count": 6,
   "id": "57ece3dd",
   "metadata": {},
   "outputs": [],
   "source": [
    "file=\"Ultima Carta\"\n",
    "with open(f\"{file}.txt\", \"r\", encoding=\"utf-8\") as file:\n",
    "    lines = file.readlines()"
   ]
  },
  {
   "cell_type": "code",
   "execution_count": 24,
   "id": "07b82d3a",
   "metadata": {},
   "outputs": [
    {
     "name": "stdout",
     "output_type": "stream",
     "text": [
      "TITLE: La última carta ==> None\n",
      "AUTHOR: Issac Corona ==> None\n",
      "INT. DEPARTAMENTO RENTADO - NIGHT ==> SCENE\n",
      "Se abre una puerta, dejando ver entre la oscuridad a FERNANDO. ==> None\n",
      "Cruza la puerta apenas logrando mantenerse de pie, enciende una luz de ambiente, luego da un par de pasos y cae al suelo cerca de un mueble que tiene una botella de alcohol y un baso sobre ella. ==> None\n",
      "Intenta levantarse para tomar la botella, falla y cae la botella junto con un retrato rompiéndose al instante estos dos enfrente del. ==> None\n"
     ]
    }
   ],
   "source": [
    "current_character = None\n",
    "label = None\n",
    "doc = Document()\n",
    "\n",
    "for line in lines[0:10]:\n",
    "    line = line.strip()\n",
    "    if not line:\n",
    "        continue\n",
    "    \n",
    "\n",
    "    if \"===\" in line:\n",
    "        label = \"SCENE\" if label is None else None\n",
    "        continue\n",
    "\n",
    "\n",
    "    if label == \"SCENE\":\n",
    "        add_scene_heading(line.strip())    \n",
    "\n",
    "    print(line,\"==>\", label)\n",
    "    # if line.startswith(\"SCENE:\"):\n",
    "    #     add_scene_heading(line.replace(\"SCENE:\", \"\").strip())\n",
    "    # elif line.startswith(\"ACTION:\"):\n",
    "    #     add_action(line.replace(\"ACTION:\", \"\").strip())\n",
    "    # elif line.startswith(\"CHARACTER:\"):\n",
    "    #     current_character = line.replace(\"CHARACTER:\", \"\").strip()\n",
    "    #     add_character(current_character)\n",
    "    # elif line.startswith(\"PARENTHETICAL:\"):\n",
    "    #     add_parenthetical(line.replace(\"PARENTHETICAL:\", \"\").strip())\n",
    "    # elif line.startswith(\"DIALOGUE:\"):\n",
    "    #     add_dialogue(line.replace(\"DIALOGUE:\", \"\").strip())\n",
    "    # elif line.startswith('VOICE_OFF'):\n",
    "    #     add_parenthetical(\"Voz en off\")\n",
    "    #     add_dialogue(line.replace(\"VOICE_OFF:\", \"\").strip())\n",
    "    # elif line.startswith(\"TRANSITION:\"):\n",
    "    #     add_transition(line.replace(\"TRANSITION:\", \"\").strip())\n",
    "    # elif line.startswith(\"SHOT:\"):\n",
    "    #     add_shot(line.replace(\"SHOT:\", \"\").strip())\n",
    "    # else:\n",
    "    #     add_action(line)\n",
    "\n",
    "# doc.save(f\"{file}.docx\")"
   ]
  },
  {
   "cell_type": "code",
   "execution_count": null,
   "id": "d54e9cd2",
   "metadata": {},
   "outputs": [
    {
     "data": {
      "text/plain": [
       "<docx.document.Document at 0x1ed98eaa110>"
      ]
     },
     "execution_count": 22,
     "metadata": {},
     "output_type": "execute_result"
    }
   ],
   "source": [
    "doc."
   ]
  }
 ],
 "metadata": {
  "kernelspec": {
   "display_name": "Python 3",
   "language": "python",
   "name": "python3"
  },
  "language_info": {
   "codemirror_mode": {
    "name": "ipython",
    "version": 3
   },
   "file_extension": ".py",
   "mimetype": "text/x-python",
   "name": "python",
   "nbconvert_exporter": "python",
   "pygments_lexer": "ipython3",
   "version": "3.11.6"
  }
 },
 "nbformat": 4,
 "nbformat_minor": 5
}
